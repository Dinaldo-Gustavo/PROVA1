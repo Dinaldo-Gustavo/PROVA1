{
 "cells": [
  {
   "cell_type": "code",
   "execution_count": 73,
   "id": "0f3a6839-ec6f-4705-94fd-bd4b5fafcacd",
   "metadata": {},
   "outputs": [],
   "source": [
    "class No:\n",
    "    def __init__(self, valor):\n",
    "        self.valor = valor\n",
    "        self.proximo = None"
   ]
  },
  {
   "cell_type": "code",
   "execution_count": 74,
   "id": "ccc0eace-f01c-4bbc-b058-fdde1203adda",
   "metadata": {},
   "outputs": [],
   "source": [
    "class ListaEncadeada:\n",
    "    def __init__(self):\n",
    "        self.inicio = None\n",
    "\n",
    "    def inserir(self, valor):\n",
    "        novo_no = No(valor)\n",
    "        if self.inicio is None:\n",
    "            self.inicio = novo_no\n",
    "        else:\n",
    "            atual = self.inicio\n",
    "            while atual.proximo:\n",
    "                atual = atual.proximo\n",
    "            atual.proximo = novo_no\n",
    "\n",
    "    def contar(self):\n",
    "        if self.inicio is None:\n",
    "            return \"A lista encadeada está vazia\"\n",
    "        else:\n",
    "            contador = 0 \n",
    "            valor_atual = self.inicio\n",
    "            while valor_atual is not None:\n",
    "                contador += 1\n",
    "                valor_atual = valor_atual.proximo\n",
    "            return f\"A quantidade de valores na lista encadeada é: {contador}\""
   ]
  },
  {
   "cell_type": "code",
   "execution_count": 75,
   "id": "b9d40393-0d4c-4ba0-b2fd-ddb25caaf02d",
   "metadata": {},
   "outputs": [
    {
     "data": {
      "text/plain": [
       "'A lista encadeada está vazia'"
      ]
     },
     "execution_count": 75,
     "metadata": {},
     "output_type": "execute_result"
    }
   ],
   "source": [
    "L = ListaEncadeada()\n",
    "L.contar()"
   ]
  },
  {
   "cell_type": "code",
   "execution_count": 76,
   "id": "4498643c-6e28-4afb-ae9b-657e2d74ad20",
   "metadata": {},
   "outputs": [
    {
     "data": {
      "text/plain": [
       "'A quantidade de valores na lista encadeada é: 3'"
      ]
     },
     "execution_count": 76,
     "metadata": {},
     "output_type": "execute_result"
    }
   ],
   "source": [
    "L.inserir(5)\n",
    "L.inserir(3)\n",
    "L.inserir(10)\n",
    "L.contar()"
   ]
  },
  {
   "cell_type": "code",
   "execution_count": null,
   "id": "1762c4f4-ddc9-4a49-b92f-8ff6889101a0",
   "metadata": {},
   "outputs": [],
   "source": []
  }
 ],
 "metadata": {
  "kernelspec": {
   "display_name": "Python 3 (ipykernel)",
   "language": "python",
   "name": "python3"
  },
  "language_info": {
   "codemirror_mode": {
    "name": "ipython",
    "version": 3
   },
   "file_extension": ".py",
   "mimetype": "text/x-python",
   "name": "python",
   "nbconvert_exporter": "python",
   "pygments_lexer": "ipython3",
   "version": "3.13.5"
  }
 },
 "nbformat": 4,
 "nbformat_minor": 5
}
